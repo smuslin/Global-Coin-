{
 "cells": [
  {
   "cell_type": "markdown",
   "metadata": {},
   "source": [
    "# Global Coin (GC)\n",
    "- Fungible Token that trades in the market and reflects the profit/loss of a certain tick\n",
    "- ERC20 smart contract token that could be minted and sold to the buyer\n",
    "\n",
    "## Sources\n",
    "- ALPACA API \n",
    "- Open Zeplin ERC20\n",
    "\n",
    "\n",
    "## Data\n",
    "- Base market Tick info (SPY, Gold or others) \n",
    "- option of added trading algorithm\n",
    "\n",
    "\n",
    "## Code\n",
    "1. Python importing ALPACA API\n",
    "\n",
    "2. ERC20 fungible token smart contract\n",
    "\n",
    "4. Streamlit front end\n",
    "\n",
    "\n",
    "## Analysis and visualization\n",
    "- Plot the Token value as x on Y (time stamp)\n",
    "- Plot the number of tokens in the market and each individual's share\n",
    "\n",
    "\n",
    "## Participants:\n",
    "Harith Alshuwaykh, Sam Muslin, Erin O'leary, Montgomery Gash\n"
   ]
  }
 ],
 "metadata": {
  "language_info": {
   "name": "python"
  }
 },
 "nbformat": 4,
 "nbformat_minor": 2
}
